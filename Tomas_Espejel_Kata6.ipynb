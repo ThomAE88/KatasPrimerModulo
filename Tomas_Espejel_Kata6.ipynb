{
 "cells": [
  {
   "cell_type": "markdown",
   "metadata": {},
   "source": [
    "Ejercicio 1 - Crear lista de planetas"
   ]
  },
  {
   "cell_type": "code",
   "execution_count": 4,
   "metadata": {},
   "outputs": [
    {
     "name": "stdout",
     "output_type": "stream",
     "text": [
      "En total, hay 8 planetas\n",
      "Plutón es el último planeta\n"
     ]
    }
   ],
   "source": [
    "planetas = ['Mercurio', 'Venus', 'Tierra', 'Marte', 'Júpiter', 'Saturno', 'Urano', 'Neptuno']\n",
    "\n",
    "print('En total, hay', len(planetas), 'planetas')\n",
    "\n",
    "planetas.append('Plutón')\n",
    "\n",
    "print(planetas[-1], 'es el último planeta')\n"
   ]
  },
  {
   "cell_type": "markdown",
   "metadata": {},
   "source": [
    "Ejercicio 2 - Recuperar partes de una lista"
   ]
  },
  {
   "cell_type": "code",
   "execution_count": 3,
   "metadata": {},
   "outputs": [
    {
     "name": "stdout",
     "output_type": "stream",
     "text": [
      "He aquí los planetas más cercanos aSaturno\n",
      "['Mercurio', 'Venus', 'Tierra', 'Marte', 'Júpiter']\n",
      "He aquí los planetas más lejanos a Saturno\n",
      "['Urano', 'Neptuno']\n"
     ]
    }
   ],
   "source": [
    "planetas = ['Mercurio', 'Venus', 'Tierra', 'Marte', 'Júpiter', 'Saturno', 'Urano', 'Neptuno']\n",
    "\n",
    "user_planetas = input('Por favor, indica el nombre del planeta (con una letra mayúscula al inicio)')\n",
    "\n",
    "planetas_index = planetas.index(user_planetas)\n",
    "\n",
    "print('He aquí los planetas más cercanos a ' + user_planetas)\n",
    "print(planetas[0:planetas_index])\n",
    "\n",
    "print('He aquí los planetas más lejanos a ' + user_planetas)\n",
    "print(planetas[planetas_index + 1:])\n"
   ]
  }
 ],
 "metadata": {
  "interpreter": {
   "hash": "483cc9824c63fb2198fb94fb86673e4d4136e8bd63335df7f199378144c45f31"
  },
  "kernelspec": {
   "display_name": "Python 3.10.2 64-bit",
   "language": "python",
   "name": "python3"
  },
  "language_info": {
   "codemirror_mode": {
    "name": "ipython",
    "version": 3
   },
   "file_extension": ".py",
   "mimetype": "text/x-python",
   "name": "python",
   "nbconvert_exporter": "python",
   "pygments_lexer": "ipython3",
   "version": "3.10.2"
  },
  "orig_nbformat": 4
 },
 "nbformat": 4,
 "nbformat_minor": 2
}
