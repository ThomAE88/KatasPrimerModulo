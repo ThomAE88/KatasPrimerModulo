{
 "cells": [
  {
   "cell_type": "code",
   "execution_count": null,
   "metadata": {},
   "outputs": [],
   "source": []
  },
  {
   "cell_type": "markdown",
   "metadata": {},
   "source": [
    "Copiado desde la Consola:"
   ]
  },
  {
   "cell_type": "markdown",
   "metadata": {},
   "source": [
    "F:\\2020\\Documentos\\LaunchX\\kata2\\env>cd scripts\n",
    "\n",
    "F:\\2020\\Documentos\\LaunchX\\kata2\\env\\Scripts>activate\n",
    "\n",
    "(env) F:\\2020\\Documentos\\LaunchX\\kata2\\env\\Scripts>\n",
    "\n",
    "(env) F:\\2020\\Documentos\\LaunchX\\kata2\\env\\Scripts>pip install python-dateutil\n",
    "Requirement already satisfied: python-dateutil in f:\\2020\\documentos\\launchx\\kata2\\env\\lib\\site-packages (2.8.2)\n",
    "Requirement already satisfied: six>=1.5 in f:\\2020\\documentos\\launchx\\kata2\\env\\lib\\site-packages (from python-dateutil) (1.16.0)\n",
    "WARNING: You are using pip version 21.2.4; however, version 22.0.3 is available.\n",
    "You should consider upgrading via the 'F:\\2020\\Documentos\\LaunchX\\kata2\\env\\Scripts\\python.exe -m pip install --upgrade pip' command.\n",
    "\n",
    "(env) F:\\2020\\Documentos\\LaunchX\\kata2\\env\\Scripts>\n",
    "\n",
    "(env) F:\\2020\\Documentos\\LaunchX\\kata2\\env\\Scripts>python.exe -m pip install --upgrade pip\n",
    "Requirement already satisfied: pip in f:\\2020\\documentos\\launchx\\kata2\\env\\lib\\site-packages (21.2.4)\n",
    "Collecting pip\n",
    "  Using cached pip-22.0.3-py3-none-any.whl (2.1 MB)\n",
    "Installing collected packages: pip\n",
    "  Attempting uninstall: pip\n",
    "    Found existing installation: pip 21.2.4\n",
    "    Uninstalling pip-21.2.4:\n",
    "      Successfully uninstalled pip-21.2.4\n",
    "Successfully installed pip-22.0.3\n",
    "\n",
    "(env) F:\\2020\\Documentos\\LaunchX\\kata2\\env\\Scripts>\n",
    "\n",
    "(env) F:\\2020\\Documentos\\LaunchX\\kata2\\env\\Scripts>pip freeze\n",
    "python-dateutil==2.8.2\n",
    "six==1.16.0\n",
    "\n",
    "(env) F:\\2020\\Documentos\\LaunchX\\kata2\\env\\Scripts>deactivate\n",
    "F:\\2020\\Documentos\\LaunchX\\kata2\\env\\Scripts>\n",
    "\n"
   ]
  }
 ],
 "metadata": {
  "language_info": {
   "name": "python"
  },
  "orig_nbformat": 4
 },
 "nbformat": 4,
 "nbformat_minor": 2
}
